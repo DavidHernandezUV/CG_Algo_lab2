{
 "cells": [
  {
   "cell_type": "markdown",
   "metadata": {},
   "source": [
    "# Integrantes:\n",
    "* Jennyfer Belalcazar Manrique\n",
    "* Diego Ledesma Motta\n",
    "* David barona"
   ]
  },
  {
   "cell_type": "code",
   "execution_count": 1,
   "metadata": {},
   "outputs": [],
   "source": [
    "import numpy as np\n",
    "import matplotlib.pyplot as plt"
   ]
  },
  {
   "cell_type": "markdown",
   "metadata": {},
   "source": [
    "# Class definition"
   ]
  },
  {
   "cell_type": "code",
   "execution_count": 2,
   "metadata": {},
   "outputs": [],
   "source": [
    "class pointsGenerator:\n",
    "    \n",
    "    def line(self, x1, y1, x2, y2, method):\n",
    "        if method == 'bresenham':\n",
    "            #Conditions:\n",
    "            # * x1 < x2 and y1 < y2\n",
    "            # * 0 < m < 1\n",
    "            if (x1 > x2) or (y1 > y2) or ( (y2-y1)/(x2-x1) > 1) or ( (y2-y1)/(x2-x1) < 0):\n",
    "                print(\"first if statement\")\n",
    "                raise ValueError('Invalid points for Bresenham algorithm')\n",
    "            m = 2 * (y2-y1)     \n",
    "            mErr = m - (x2-x1)  \n",
    "\n",
    "            y = y1\n",
    "            points = np.zeros((0,), dtype = np.int32)\n",
    "\n",
    "            for x in range(x1, x2 + 1): \n",
    "                points = np.append(points, np.array([x, y], dtype = np.int32))\n",
    "                mErr = mErr + m     \n",
    "                if mErr >= 0:\n",
    "                    y += 1          \n",
    "                    mErr = mErr - 2 * (x2 - x1) \n",
    "\n",
    "            return points.reshape(-1, 2)\n",
    "\n",
    "        if method == 'DDA':\n",
    "            dx = abs(x2-x1)\n",
    "            dy = abs(y2-y1)\n",
    "            if(dx>dy):\n",
    "                step = dx\n",
    "            else:\n",
    "                step = dy\n",
    "\n",
    "            xinc = dx/step\n",
    "            yinc = dy/step\n",
    "            points = np.zeros((0,), dtype = np.int32)\n",
    "            x = x1\n",
    "            y = y1\n",
    "            points = np.append(points, np.array([x, y], dtype = np.int32))\n",
    "            for k in range(1,step+1):\n",
    "                x = x+ xinc\n",
    "                y = y+ yinc\n",
    "                points = np.append(points, np.array([round(x),round(y)], dtype = np.int32))\n",
    "            return points.reshape(-1, 2)\n",
    "\n",
    "\n",
    "\n",
    "    \n",
    "\n",
    "    def circle(self, x0, y0, r, method):\n",
    "        if method == 'mid-point':\n",
    "            x = r\n",
    "            y = 0\n",
    "\n",
    "            points = np.zeros((0,), dtype = np.int32)\n",
    "            points = np.append(points, np.array([x0 + x, y0 + y], dtype = np.int32))\n",
    "            print(\"first point:\", points)\n",
    "\n",
    "            if (r > 0):\n",
    "                points = np.append(points, np.array([x0 + x, y0 - y], dtype = np.int32))\n",
    "                points = np.append(points, np.array([x0 + y, y0 + x], dtype = np.int32))\n",
    "                points = np.append(points, np.array([x0 - y, y0 + x], dtype = np.int32))\n",
    "\n",
    "            p = 1 - r\n",
    "            print(\"p = \", 1, \" - \", r)\n",
    "            print(\"p = \", p)\n",
    "\n",
    "            iteration = 0\n",
    "\n",
    "            while (x > y):\n",
    "                iteration += 1 #debugging\n",
    "                print(\"iteration:\", iteration) \n",
    "                y += 1\n",
    "\n",
    "                \n",
    "\n",
    "                # Mid-point inside or on the perimeter\n",
    "                if p <= 0:\n",
    "                    print(\"p <= 0\")\n",
    "                    print(\"p = \",p, \" + \", 2 * y, \" + \", 1)\n",
    "                    p = p + 2 * y + 1\n",
    "                    print(\"p = \", p)\n",
    "                    \n",
    "\n",
    "                # Mid-point outside the perimeter\n",
    "                else:\n",
    "                    print(\"p > 0\")\n",
    "                    x -= 1\n",
    "                    print(\"p = \", p, \" + \", 2 * y, \" - \", 2 * x, \" + \", 1)\n",
    "                    p = p + 2 * y - 2 * x + 1\n",
    "                    print(\"p = \", p)\n",
    "\n",
    "                #print(\"p = \", p)\n",
    "\n",
    "                # All the perimeter points have already been printed\n",
    "                if (x < y):\n",
    "                    break\n",
    "\n",
    "                # adding the generated point and its reflections\n",
    "                points = np.append(points, np.array([x0 + x, y0 + y], dtype = np.int32))\n",
    "                print(\"next point: \", points[-2:])\n",
    "                points = np.append(points, np.array([x0 - x, y0 + y], dtype = np.int32))\n",
    "                points = np.append(points, np.array([x0 + x, y0 - y], dtype = np.int32))\n",
    "                points = np.append(points, np.array([x0 - x, y0 - y], dtype = np.int32))\n",
    "\n",
    "                # If the generated point is on the line x = y then \n",
    "                # the perimeter points have already been added\n",
    "                if (x != y):\n",
    "                    points = np.append(points, np.array([x0 + y, y0 + x], dtype = np.int32))\n",
    "                    #print(\"next point: \", points[-2:])\n",
    "                    points = np.append(points, np.array([x0 - y, y0 + x], dtype = np.int32))\n",
    "                    points = np.append(points, np.array([x0 + y, y0 - x], dtype = np.int32))\n",
    "                    points = np.append(points, np.array([x0 - y, y0 - x], dtype = np.int32))\n",
    "                \n",
    "            return points.reshape(-1, 2)\n"
   ]
  },
  {
   "cell_type": "markdown",
   "metadata": {},
   "source": [
    "# Tests"
   ]
  },
  {
   "cell_type": "markdown",
   "metadata": {},
   "source": [
    "## Bresenham's Line Algorithm"
   ]
  },
  {
   "cell_type": "code",
   "execution_count": 4,
   "metadata": {},
   "outputs": [
    {
     "data": {
      "text/plain": [
       "array([0, 3, 2, 5, 4])"
      ]
     },
     "execution_count": 4,
     "metadata": {},
     "output_type": "execute_result"
    }
   ],
   "source": [
    "arr0 = np.append(np.zeros((1,1), dtype = np.int32 ), np.array([3,2], dtype = np.int32))\n",
    "arr1 = np.append(arr0, np.array([5,4], dtype = np.int32))\n",
    "arr1"
   ]
  },
  {
   "cell_type": "code",
   "execution_count": 4,
   "metadata": {},
   "outputs": [
    {
     "data": {
      "text/plain": [
       "array([[0, 0],\n",
       "       [1, 1],\n",
       "       [2, 2],\n",
       "       [3, 3]], dtype=int32)"
      ]
     },
     "execution_count": 4,
     "metadata": {},
     "output_type": "execute_result"
    }
   ],
   "source": [
    "plotter = pointsGenerator()\n",
    "plotter.line(0,0,3,2, 'bresenham')"
   ]
  },
  {
   "cell_type": "code",
   "execution_count": 5,
   "metadata": {},
   "outputs": [
    {
     "data": {
      "text/plain": [
       "array([[ 3,  2],\n",
       "       [ 4,  3],\n",
       "       [ 5,  3],\n",
       "       [ 6,  3],\n",
       "       [ 7,  3],\n",
       "       [ 8,  4],\n",
       "       [ 9,  4],\n",
       "       [10,  4],\n",
       "       [11,  4],\n",
       "       [12,  5],\n",
       "       [13,  5],\n",
       "       [14,  5],\n",
       "       [15,  5]], dtype=int32)"
      ]
     },
     "execution_count": 5,
     "metadata": {},
     "output_type": "execute_result"
    }
   ],
   "source": [
    "plotter.line(3,2,15,5, 'bresenham')"
   ]
  },
  {
   "cell_type": "markdown",
   "metadata": {},
   "source": [
    "DDA line"
   ]
  },
  {
   "cell_type": "code",
   "execution_count": 3,
   "metadata": {},
   "outputs": [
    {
     "name": "stdout",
     "output_type": "stream",
     "text": [
      "[[3 4]\n",
      " [4 5]\n",
      " [5 6]\n",
      " [5 7]\n",
      " [6 8]\n",
      " [7 9]]\n"
     ]
    }
   ],
   "source": [
    "plotter = pointsGenerator()\n",
    "arr = plotter.line(3,4,7,9, 'DDA')\n",
    "print(arr)"
   ]
  },
  {
   "cell_type": "code",
   "execution_count": 7,
   "metadata": {},
   "outputs": [
    {
     "data": {
      "image/png": "[encoded data removed]",
      "text/plain": [
       "<Figure size 640x480 with 1 Axes>"
      ]
     },
     "metadata": {},
     "output_type": "display_data"
    }
   ],
   "source": [
    "xList = []\n",
    "yList = []\n",
    "\n",
    "for i in range(round(arr.size/2)):\n",
    "    xList.append(arr[i][0])\n",
    "    yList.append(arr[i][1])\n",
    "\n",
    "\n",
    "plt.plot(xList, yList, color='green',marker='o')\n",
    "plt.show()\n"
   ]
  },
  {
   "cell_type": "markdown",
   "metadata": {},
   "source": [
    "## mid-point circle drawing algorithm"
   ]
  },
  {
   "cell_type": "code",
   "execution_count": 5,
   "metadata": {},
   "outputs": [
    {
     "name": "stdout",
     "output_type": "stream",
     "text": [
      "first point: [3 0]\n",
      "p =  1  -  3\n",
      "p =  -2\n",
      "iteration: 1\n",
      "p <= 0\n",
      "p =  -2  +  2  +  1\n",
      "p =  1\n",
      "next point:  [3 1]\n",
      "iteration: 2\n",
      "p > 0\n",
      "p =  1  +  4  -  4  +  1\n",
      "p =  2\n",
      "next point:  [2 2]\n"
     ]
    },
    {
     "data": {
      "text/plain": [
       "array([[ 3,  0],\n",
       "       [ 3,  0],\n",
       "       [ 0,  3],\n",
       "       [ 0,  3],\n",
       "       [ 3,  1],\n",
       "       [-3,  1],\n",
       "       [ 3, -1],\n",
       "       [-3, -1],\n",
       "       [ 1,  3],\n",
       "       [-1,  3],\n",
       "       [ 1, -3],\n",
       "       [-1, -3],\n",
       "       [ 2,  2],\n",
       "       [-2,  2],\n",
       "       [ 2, -2],\n",
       "       [-2, -2]])"
      ]
     },
     "execution_count": 5,
     "metadata": {},
     "output_type": "execute_result"
    }
   ],
   "source": [
    "pointsGen = pointsGenerator()\n",
    "pointsGen.circle(0,0,3, 'mid-point')"
   ]
  },
  {
   "cell_type": "code",
   "execution_count": 79,
   "metadata": {},
   "outputs": [
    {
     "name": "stdout",
     "output_type": "stream",
     "text": [
      "first point: [8 5]\n",
      "p =  1  -  5\n",
      "p =  -4\n",
      "iteration: 1\n",
      "p <= 0\n",
      "p =  -4  +  2  +  1\n",
      "p =  -1\n",
      "next point:  [8 6]\n",
      "iteration: 2\n",
      "p <= 0\n",
      "p =  -1  +  4  +  1\n",
      "p =  4\n",
      "next point:  [8 7]\n",
      "iteration: 3\n",
      "p > 0\n",
      "p =  4  +  6  -  8  +  1\n",
      "p =  3\n",
      "next point:  [7 8]\n",
      "iteration: 4\n",
      "p > 0\n",
      "p =  3  +  8  -  6  +  1\n",
      "p =  6\n"
     ]
    },
    {
     "data": {
      "text/plain": [
       "array([[ 8,  5],\n",
       "       [ 8,  5],\n",
       "       [ 3, 10],\n",
       "       [ 3, 10],\n",
       "       [ 8,  6],\n",
       "       [-2,  6],\n",
       "       [ 8,  4],\n",
       "       [-2,  4],\n",
       "       [ 4, 10],\n",
       "       [ 2, 10],\n",
       "       [ 4,  0],\n",
       "       [ 2,  0],\n",
       "       [ 8,  7],\n",
       "       [-2,  7],\n",
       "       [ 8,  3],\n",
       "       [-2,  3],\n",
       "       [ 5, 10],\n",
       "       [ 1, 10],\n",
       "       [ 5,  0],\n",
       "       [ 1,  0],\n",
       "       [ 7,  8],\n",
       "       [-1,  8],\n",
       "       [ 7,  2],\n",
       "       [-1,  2],\n",
       "       [ 6,  9],\n",
       "       [ 0,  9],\n",
       "       [ 6,  1],\n",
       "       [ 0,  1]], dtype=int32)"
      ]
     },
     "execution_count": 79,
     "metadata": {},
     "output_type": "execute_result"
    }
   ],
   "source": [
    "pointsGen.circle(3,5,5, 'mid-point')"
   ]
  },
  {
   "cell_type": "code",
   "execution_count": 53,
   "metadata": {},
   "outputs": [],
   "source": [
    "import matplotlib.pyplot as plt\n",
    "import seaborn as sns"
   ]
  },
  {
   "cell_type": "code",
   "execution_count": 124,
   "metadata": {},
   "outputs": [
    {
     "data": {
      "image/png": "[encoded data removed]",
      "text/plain": [
       "<Figure size 432x288 with 1 Axes>"
      ]
     },
     "metadata": {
      "needs_background": "light"
     },
     "output_type": "display_data"
    }
   ],
   "source": [
    "firstOctPoints = np.array([[8,5], [8,6], [8,7], [7,8]])\n",
    "\n",
    "fig,  ax = plt.subplots()\n",
    "#ax.spines['top'].set_position(('data',15))\n",
    "#ax.spines['left'].set_position(('data',0))\n",
    "ax.scatter(firstOctPoints[:,0], firstOctPoints[:,1], s = 100, color = 'red', label = 'perimeter points')\n",
    "ax.scatter([3], [5], s = 50, color = 'blue', label = 'center')\n",
    "plt.grid()\n",
    "ax.set_aspect('equal')\n",
    "ax.axhline(y=0, color='gray')\n",
    "ax.axhline(y = 10, color = 'white')\n",
    "ax.axvline(x=0, color='gray')\n",
    "plt.legend()\n",
    "plt.show()"
   ]
  }
 ],
 "metadata": {
  "kernelspec": {
   "display_name": "Python 3.10.8 64-bit",
   "language": "python",
   "name": "python3"
  },
  "language_info": {
   "codemirror_mode": {
    "name": "ipython",
    "version": 3
   },
   "file_extension": ".py",
   "mimetype": "text/x-python",
   "name": "python",
   "nbconvert_exporter": "python",
   "pygments_lexer": "ipython3",
   "version": "3.10.8"
  },
  "orig_nbformat": 4,
  "vscode": {
   "interpreter": {
    "hash": "8d29596b31a10d5dd473273f7df23fc094d237ee4614b3ce40972adc68324346"
   }
  }
 },
 "nbformat": 4,
 "nbformat_minor": 2
}
