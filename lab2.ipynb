{
 "cells": [
  {
   "cell_type": "markdown",
   "metadata": {},
   "source": [
    "# Integrantes:\n",
    "* Jennyfer Belalcazar Manrique\n",
    "* Diego Ledesma Motta\n",
    "* David barona"
   ]
  },
  {
   "cell_type": "code",
   "execution_count": 1,
   "metadata": {},
   "outputs": [],
   "source": [
    "import numpy as np"
   ]
  },
  {
   "cell_type": "code",
   "execution_count": 58,
   "metadata": {},
   "outputs": [],
   "source": [
    "class pointsGenerator:\n",
    "    def __init__(self):\n",
    "        pass\n",
    "    \n",
    "    def line(self, x1, y1, x2, y2, method):\n",
    "        if method == 'bresenham':\n",
    "            #Conditions:\n",
    "            # * x1 < x2 and y1 < y2\n",
    "            # * 0 < m < 1\n",
    "            if (x1 > x2) or (y1 > y2) or ( (y2-y1)/(x2-x1) > 1) or ( (y2-y1)/(x2-x1) < 0):\n",
    "                print(\"first if statement\")\n",
    "                raise ValueError('Invalid points for Bresenham algorithm')\n",
    "            m = 2 * (y2-y1)     \n",
    "            mErr = m - (x2-x1)  \n",
    "\n",
    "            y = y1\n",
    "            points = np.zeros((0,), dtype = np.int32)\n",
    "\n",
    "            for x in range(x1, x2 + 1): \n",
    "                points = np.append(points, np.array([x, y], dtype = np.int32))\n",
    "                mErr = mErr + m     \n",
    "                if mErr >= 0:\n",
    "                    y += 1          \n",
    "                    mErr = mErr - 2 * (x2 - x1) \n",
    "\n",
    "            return points.reshape(-1, 2)\n",
    "\n",
    "    \n",
    "\n",
    "    def circle(self, x0, y0, r, method):\n",
    "        if method == 'mid-point':\n",
    "            x = r\n",
    "            y = 0\n",
    "\n",
    "            points = np.zeros((0,), dtype = np.int32)\n",
    "            points = np.append(points, np.array([x0 + x, y0 + y], dtype = np.int32))\n",
    "\n",
    "            if (r > 0):\n",
    "                points = np.append(points, np.array([x0 + x, y0 - y], dtype = np.int32))\n",
    "                points = np.append(points, np.array([x0 + y, y0 + x], dtype = np.int32))\n",
    "                points = np.append(points, np.array([x0 - y, y0 + x], dtype = np.int32))\n",
    "\n",
    "            p = 1 - r\n",
    "\n",
    "            while (x > y):\n",
    "                y += 1\n",
    "\n",
    "                # Mid-point inside or on the perimeter\n",
    "                if p <= 0:\n",
    "                    p = p + 2 * y + 1\n",
    "\n",
    "                # Mid-point outside the perimeter\n",
    "                else:\n",
    "                    x -= 1\n",
    "                    p = p + 2 * y - 2 * x + 1\n",
    "\n",
    "                # All the perimeter points have already been printed\n",
    "                if (x < y):\n",
    "                    break\n",
    "\n",
    "                # adding the generated point and its reflections\n",
    "                points = np.append(points, np.array([x0 + x, y0 + y], dtype = np.int32))\n",
    "                points = np.append(points, np.array([x0 - x, y0 + y], dtype = np.int32))\n",
    "                points = np.append(points, np.array([x0 + x, y0 - y], dtype = np.int32))\n",
    "                points = np.append(points, np.array([x0 - x, y0 - y], dtype = np.int32))\n",
    "\n",
    "                # If the generated point is on the line x = y then \n",
    "                # the perimeter points have already been added\n",
    "                if (x != y):\n",
    "                    points = np.append(points, np.array([x0 + y, y0 + x], dtype = np.int32))\n",
    "                    points = np.append(points, np.array([x0 - y, y0 + x], dtype = np.int32))\n",
    "                    points = np.append(points, np.array([x0 + y, y0 - x], dtype = np.int32))\n",
    "                    points = np.append(points, np.array([x0 - y, y0 - x], dtype = np.int32))\n",
    "                \n",
    "            return points.reshape(-1, 2)\n"
   ]
  },
  {
   "cell_type": "markdown",
   "metadata": {},
   "source": [
    "# Tests"
   ]
  },
  {
   "cell_type": "markdown",
   "metadata": {},
   "source": [
    "## DDA Line Algorithm"
   ]
  },
  {
   "cell_type": "code",
   "execution_count": 46,
   "metadata": {},
   "outputs": [
    {
     "data": {
      "text/plain": [
       "array([0, 3, 2, 5, 4], dtype=int32)"
      ]
     },
     "execution_count": 46,
     "metadata": {},
     "output_type": "execute_result"
    }
   ],
   "source": [
    "arr0 = np.append(np.zeros((1,1), dtype = np.int32 ), np.array([3,2], dtype = np.int32))\n",
    "arr1 = np.append(arr0, np.array([5,4], dtype = np.int32))\n",
    "arr1"
   ]
  },
  {
   "cell_type": "code",
   "execution_count": 49,
   "metadata": {},
   "outputs": [
    {
     "data": {
      "text/plain": [
       "array([[0, 0],\n",
       "       [1, 1],\n",
       "       [2, 2],\n",
       "       [3, 3]], dtype=int32)"
      ]
     },
     "execution_count": 49,
     "metadata": {},
     "output_type": "execute_result"
    }
   ],
   "source": [
    "plotter = pointsGenerator()\n",
    "plotter.line(0,0,3,2, 'bresenham')"
   ]
  },
  {
   "cell_type": "code",
   "execution_count": 50,
   "metadata": {},
   "outputs": [
    {
     "data": {
      "text/plain": [
       "array([[ 3,  2],\n",
       "       [ 4,  3],\n",
       "       [ 5,  3],\n",
       "       [ 6,  3],\n",
       "       [ 7,  3],\n",
       "       [ 8,  4],\n",
       "       [ 9,  4],\n",
       "       [10,  4],\n",
       "       [11,  4],\n",
       "       [12,  5],\n",
       "       [13,  5],\n",
       "       [14,  5],\n",
       "       [15,  5]], dtype=int32)"
      ]
     },
     "execution_count": 50,
     "metadata": {},
     "output_type": "execute_result"
    }
   ],
   "source": [
    "plotter.line(3,2,15,5, 'bresenham')"
   ]
  },
  {
   "cell_type": "markdown",
   "metadata": {},
   "source": [
    "## mid-point circle drawing algorithm"
   ]
  },
  {
   "cell_type": "code",
   "execution_count": 59,
   "metadata": {},
   "outputs": [
    {
     "data": {
      "text/plain": [
       "array([[ 3,  0],\n",
       "       [ 3,  0],\n",
       "       [ 0,  3],\n",
       "       [ 0,  3],\n",
       "       [ 3,  1],\n",
       "       [-3,  1],\n",
       "       [ 3, -1],\n",
       "       [-3, -1],\n",
       "       [ 1,  3],\n",
       "       [-1,  3],\n",
       "       [ 1, -3],\n",
       "       [-1, -3],\n",
       "       [ 2,  2],\n",
       "       [-2,  2],\n",
       "       [ 2, -2],\n",
       "       [-2, -2]], dtype=int32)"
      ]
     },
     "execution_count": 59,
     "metadata": {},
     "output_type": "execute_result"
    }
   ],
   "source": [
    "circle = pointsGenerator()\n",
    "circle.circle(0,0,3, 'mid-point')"
   ]
  }
 ],
 "metadata": {
  "kernelspec": {
   "display_name": "Python 3.9.12 ('base')",
   "language": "python",
   "name": "python3"
  },
  "language_info": {
   "codemirror_mode": {
    "name": "ipython",
    "version": 3
   },
   "file_extension": ".py",
   "mimetype": "text/x-python",
   "name": "python",
   "nbconvert_exporter": "python",
   "pygments_lexer": "ipython3",
   "version": "3.9.12"
  },
  "orig_nbformat": 4,
  "vscode": {
   "interpreter": {
    "hash": "66e37a4da3c390ba9102db785636e2db61d518923b2ca2e4091350072f76ee72"
   }
  }
 },
 "nbformat": 4,
 "nbformat_minor": 2
}
