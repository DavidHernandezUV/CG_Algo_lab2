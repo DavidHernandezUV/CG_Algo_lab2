{
  "nbformat": 4,
  "nbformat_minor": 0,
  "metadata": {
    "colab": {
      "provenance": []
    },
    "kernelspec": {
      "name": "python3",
      "display_name": "Python 3"
    },
    "language_info": {
      "name": "python"
    }
  },
  "cells": [
    {
      "cell_type": "markdown",
      "source": [
        "# **Integrantes**\n",
        "*  # Jennyfer Belalcazar Manrique\n",
        "*  # Diego Ledesma Motta\n",
        "*  # José David Barona\n",
        "\n"
      ],
      "metadata": {
        "id": "fJR8oBIQxZf9"
      }
    },
    {
      "cell_type": "code",
      "execution_count": 11,
      "metadata": {
        "id": "9tKV8bDrud7c"
      },
      "outputs": [],
      "source": [
        "import numpy as np\n",
        "import matplotlib.pyplot as plt\n",
        "import seaborn as sns"
      ]
    },
    {
      "cell_type": "markdown",
      "source": [
        "#**Class definition**\n"
      ],
      "metadata": {
        "id": "dZitNT1ruh81"
      }
    },
    {
      "cell_type": "code",
      "source": [
        "class pointsGenerator:\n",
        "    \n",
        "    def line(self, x1, y1, x2, y2, method):\n",
        "        if method == 'bresenham':\n",
        "            #Conditions:\n",
        "            # * x1 < x2 and y1 < y2\n",
        "            # * 0 < m < 1\n",
        "            if (x1 > x2) or (y1 > y2) or ( (y2-y1)/(x2-x1) > 1) or ( (y2-y1)/(x2-x1) < 0):\n",
        "                print(\"first if statement\")\n",
        "                raise ValueError('Invalid points for Bresenham algorithm')\n",
        "            m = 2 * (y2-y1)     \n",
        "            mErr = m - (x2-x1)  \n",
        "\n",
        "            y = y1\n",
        "            points = np.zeros((0,), dtype = np.int32)\n",
        "\n",
        "            for x in range(x1, x2 + 1): \n",
        "                points = np.append(points, np.array([x, y], dtype = np.int32))\n",
        "                mErr = mErr + m     \n",
        "                if mErr >= 0:\n",
        "                    y += 1          \n",
        "                    mErr = mErr - 2 * (x2 - x1) \n",
        "\n",
        "            return points.reshape(-1, 2)\n",
        "\n",
        "        if method == 'DDA':\n",
        "            dx = abs(x2-x1)\n",
        "            dy = abs(y2-y1)\n",
        "            if(dx>dy):\n",
        "                step = dx\n",
        "            else:\n",
        "                step = dy\n",
        "\n",
        "            xinc = dx/step\n",
        "            yinc = dy/step\n",
        "            points = np.zeros((0,), dtype = np.int32)\n",
        "            x = x1\n",
        "            y = y1\n",
        "            points = np.append(points, np.array([x, y], dtype = np.int32))\n",
        "            for k in range(1,step+1):\n",
        "                x = x+ xinc\n",
        "                y = y+ yinc\n",
        "                points = np.append(points, np.array([round(x),round(y)], dtype = np.int32))\n",
        "            return points.reshape(-1, 2)\n",
        "\n",
        "\n",
        "\n",
        "    def basicAlgorithm(self,x0,y0,x1,y1,method):\n",
        "      if method == 'basicAlgorithm':\n",
        "        m = (y1-y0)/(x1-x0)\n",
        "        x = x0\n",
        "        y = y0\n",
        "        points = np.zeros((0,), dtype = np.int32)\n",
        "        while(x<=x1):\n",
        "          points = np.append(points, np.array([x,round(y)] ,dtype = np.int32))\n",
        "          y+=m;\n",
        "          x+=1\n",
        "        return points.reshape(-1,2)\n",
        "\n",
        "\n",
        "\n",
        "    def circle(self, x0, y0, r, method):\n",
        "        if method == 'mid-point':\n",
        "            x = r\n",
        "            y = 0\n",
        "\n",
        "            points = np.zeros((0,), dtype = np.int32)\n",
        "            points = np.append(points, np.array([x0 + x, y0 + y], dtype = np.int32))\n",
        "            print(\"first point:\", points)\n",
        "\n",
        "            if (r > 0):\n",
        "                points = np.append(points, np.array([x0 + x, y0 - y], dtype = np.int32))\n",
        "                points = np.append(points, np.array([x0 + y, y0 + x], dtype = np.int32))\n",
        "                points = np.append(points, np.array([x0 - y, y0 + x], dtype = np.int32))\n",
        "\n",
        "            p = 1 - r\n",
        "            print(\"p = \", 1, \" - \", r)\n",
        "            print(\"p = \", p)\n",
        "\n",
        "            iteration = 0\n",
        "\n",
        "            while (x > y):\n",
        "                iteration += 1 #debugging\n",
        "                print(\"iteration:\", iteration) \n",
        "                y += 1\n",
        "\n",
        "                \n",
        "\n",
        "                # Mid-point inside or on the perimeter\n",
        "                if p <= 0:\n",
        "                    print(\"p <= 0\")\n",
        "                    print(\"p = \",p, \" + \", 2 * y, \" + \", 1)\n",
        "                    p = p + 2 * y + 1\n",
        "                    print(\"p = \", p)\n",
        "                    \n",
        "\n",
        "                # Mid-point outside the perimeter\n",
        "                else:\n",
        "                    print(\"p > 0\")\n",
        "                    x -= 1\n",
        "                    print(\"p = \", p, \" + \", 2 * y, \" - \", 2 * x, \" + \", 1)\n",
        "                    p = p + 2 * y - 2 * x + 1\n",
        "                    print(\"p = \", p)\n",
        "\n",
        "                #print(\"p = \", p)\n",
        "\n",
        "                # All the perimeter points have already been printed\n",
        "                if (x < y):\n",
        "                    break\n",
        "\n",
        "                # adding the generated point and its reflections\n",
        "                points = np.append(points, np.array([x0 + x, y0 + y], dtype = np.int32))\n",
        "                print(\"next point: \", points[-2:])\n",
        "                points = np.append(points, np.array([x0 - x, y0 + y], dtype = np.int32))\n",
        "                points = np.append(points, np.array([x0 + x, y0 - y], dtype = np.int32))\n",
        "                points = np.append(points, np.array([x0 - x, y0 - y], dtype = np.int32))\n",
        "\n",
        "                # If the generated point is on the line x = y then \n",
        "                # the perimeter points have already been added\n",
        "                if (x != y):\n",
        "                    points = np.append(points, np.array([x0 + y, y0 + x], dtype = np.int32))\n",
        "                    #print(\"next point: \", points[-2:])\n",
        "                    points = np.append(points, np.array([x0 - y, y0 + x], dtype = np.int32))\n",
        "                    points = np.append(points, np.array([x0 + y, y0 - x], dtype = np.int32))\n",
        "                    points = np.append(points, np.array([x0 - y, y0 - x], dtype = np.int32))\n",
        "                \n",
        "            return points.reshape(-1, 2)"
      ],
      "metadata": {
        "id": "WXzEzbmCurVQ"
      },
      "execution_count": 70,
      "outputs": []
    },
    {
      "cell_type": "markdown",
      "source": [
        "# **Tests**"
      ],
      "metadata": {
        "id": "N0jLIhJtuxCH"
      }
    },
    {
      "cell_type": "markdown",
      "source": [
        "# **Bresenham's Line Algorithm**"
      ],
      "metadata": {
        "id": "dQff-KEqu0w0"
      }
    },
    {
      "cell_type": "code",
      "source": [
        "arr0 = np.append(np.zeros((1,1), dtype = np.int32 ), np.array([3,2], dtype = np.int32))\n",
        "arr1 = np.append(arr0, np.array([5,4], dtype = np.int32))\n",
        "print(arr1)"
      ],
      "metadata": {
        "colab": {
          "base_uri": "https://localhost:8080/"
        },
        "id": "nUB8WPaSuzxi",
        "outputId": "21b650ff-7f9c-4db6-84e5-c1a92607e1f0"
      },
      "execution_count": 4,
      "outputs": [
        {
          "output_type": "stream",
          "name": "stdout",
          "text": [
            "[0 3 2 5 4]\n"
          ]
        }
      ]
    },
    {
      "cell_type": "code",
      "source": [
        "plotter = pointsGenerator()\n",
        "plotter.line(0,0,3,2, 'bresenham')"
      ],
      "metadata": {
        "colab": {
          "base_uri": "https://localhost:8080/"
        },
        "id": "n2R4oa0_vPi0",
        "outputId": "0423ff6c-f906-4650-b31a-061c94ea829c"
      },
      "execution_count": 5,
      "outputs": [
        {
          "output_type": "execute_result",
          "data": {
            "text/plain": [
              "array([[0, 0],\n",
              "       [1, 1],\n",
              "       [2, 2],\n",
              "       [3, 3]], dtype=int32)"
            ]
          },
          "metadata": {},
          "execution_count": 5
        }
      ]
    },
    {
      "cell_type": "code",
      "source": [
        "plotter.line(3,2,15,5, 'bresenham')"
      ],
      "metadata": {
        "colab": {
          "base_uri": "https://localhost:8080/"
        },
        "id": "z-oesacsvUkO",
        "outputId": "e31aa116-1fd7-4082-9ed4-9c23ebe939dc"
      },
      "execution_count": 6,
      "outputs": [
        {
          "output_type": "execute_result",
          "data": {
            "text/plain": [
              "array([[ 3,  2],\n",
              "       [ 4,  3],\n",
              "       [ 5,  3],\n",
              "       [ 6,  3],\n",
              "       [ 7,  3],\n",
              "       [ 8,  4],\n",
              "       [ 9,  4],\n",
              "       [10,  4],\n",
              "       [11,  4],\n",
              "       [12,  5],\n",
              "       [13,  5],\n",
              "       [14,  5],\n",
              "       [15,  5]], dtype=int32)"
            ]
          },
          "metadata": {},
          "execution_count": 6
        }
      ]
    },
    {
      "cell_type": "markdown",
      "source": [
        "# **DDA Line**"
      ],
      "metadata": {
        "id": "DHQkylhQvZuZ"
      }
    },
    {
      "cell_type": "code",
      "source": [
        "plotter = pointsGenerator()\n",
        "arr = plotter.line(3,4,7,9, 'DDA')\n",
        "arr"
      ],
      "metadata": {
        "colab": {
          "base_uri": "https://localhost:8080/"
        },
        "id": "32SitgufvdXi",
        "outputId": "40980531-27a6-4bf1-8368-28762799e4e0"
      },
      "execution_count": 57,
      "outputs": [
        {
          "output_type": "execute_result",
          "data": {
            "text/plain": [
              "array([[3, 4],\n",
              "       [4, 5],\n",
              "       [5, 6],\n",
              "       [5, 7],\n",
              "       [6, 8],\n",
              "       [7, 9]], dtype=int32)"
            ]
          },
          "metadata": {},
          "execution_count": 57
        }
      ]
    },
    {
      "cell_type": "code",
      "source": [
        "xList = []\n",
        "yList = []\n",
        "\n",
        "for i in range(round(arr.size/2)):\n",
        "    xList.append(arr[i][0])\n",
        "    yList.append(arr[i][1])\n",
        "\n",
        "\n",
        "plt.plot(xList, yList, color='green',marker='o')\n",
        "plt.show()"
      ],
      "metadata": {
        "colab": {
          "base_uri": "https://localhost:8080/",
          "height": 265
        },
        "id": "r7NmTTM3vjkN",
        "outputId": "6775d696-b2a9-40ef-ac04-91677a430aaf"
      },
      "execution_count": 8,
      "outputs": [
        {
          "output_type": "display_data",
          "data": {
            "text/plain": [
              "<Figure size 432x288 with 1 Axes>"
            ],
            "image/png": "[encoded data removed]"
          },
          "metadata": {
            "needs_background": "light"
          }
        }
      ]
    },
    {
      "cell_type": "markdown",
      "source": [
        "# **mid-point circle drawing algorithm**"
      ],
      "metadata": {
        "id": "WXNhb8n5vrl0"
      }
    },
    {
      "cell_type": "code",
      "source": [
        "pointsGen = pointsGenerator()\n",
        "pointsGen.circle(0,0,3, 'mid-point')"
      ],
      "metadata": {
        "colab": {
          "base_uri": "https://localhost:8080/"
        },
        "id": "mb8eQokEvv_L",
        "outputId": "2bd8db23-242b-4a88-f657-5beff4591460"
      },
      "execution_count": 9,
      "outputs": [
        {
          "output_type": "stream",
          "name": "stdout",
          "text": [
            "first point: [3 0]\n",
            "p =  1  -  3\n",
            "p =  -2\n",
            "iteration: 1\n",
            "p <= 0\n",
            "p =  -2  +  2  +  1\n",
            "p =  1\n",
            "next point:  [3 1]\n",
            "iteration: 2\n",
            "p > 0\n",
            "p =  1  +  4  -  4  +  1\n",
            "p =  2\n",
            "next point:  [2 2]\n"
          ]
        },
        {
          "output_type": "execute_result",
          "data": {
            "text/plain": [
              "array([[ 3,  0],\n",
              "       [ 3,  0],\n",
              "       [ 0,  3],\n",
              "       [ 0,  3],\n",
              "       [ 3,  1],\n",
              "       [-3,  1],\n",
              "       [ 3, -1],\n",
              "       [-3, -1],\n",
              "       [ 1,  3],\n",
              "       [-1,  3],\n",
              "       [ 1, -3],\n",
              "       [-1, -3],\n",
              "       [ 2,  2],\n",
              "       [-2,  2],\n",
              "       [ 2, -2],\n",
              "       [-2, -2]], dtype=int32)"
            ]
          },
          "metadata": {},
          "execution_count": 9
        }
      ]
    },
    {
      "cell_type": "code",
      "source": [
        "pointsGen.circle(-2,-3,8, 'mid-point')"
      ],
      "metadata": {
        "colab": {
          "base_uri": "https://localhost:8080/"
        },
        "id": "bECLwmkNxFQt",
        "outputId": "346b79e3-dec6-406b-89a1-8d83d8b07085"
      },
      "execution_count": 116,
      "outputs": [
        {
          "output_type": "stream",
          "name": "stdout",
          "text": [
            "first point: [ 6 -3]\n",
            "p =  1  -  8\n",
            "p =  -7\n",
            "iteration: 1\n",
            "p <= 0\n",
            "p =  -7  +  2  +  1\n",
            "p =  -4\n",
            "next point:  [ 6 -2]\n",
            "iteration: 2\n",
            "p <= 0\n",
            "p =  -4  +  4  +  1\n",
            "p =  1\n",
            "next point:  [ 6 -1]\n",
            "iteration: 3\n",
            "p > 0\n",
            "p =  1  +  6  -  14  +  1\n",
            "p =  -6\n",
            "next point:  [5 0]\n",
            "iteration: 4\n",
            "p <= 0\n",
            "p =  -6  +  8  +  1\n",
            "p =  3\n",
            "next point:  [5 1]\n",
            "iteration: 5\n",
            "p > 0\n",
            "p =  3  +  10  -  12  +  1\n",
            "p =  2\n",
            "next point:  [4 2]\n",
            "iteration: 6\n",
            "p > 0\n",
            "p =  2  +  12  -  10  +  1\n",
            "p =  5\n"
          ]
        },
        {
          "output_type": "execute_result",
          "data": {
            "text/plain": [
              "array([[  6,  -3],\n",
              "       [  6,  -3],\n",
              "       [ -2,   5],\n",
              "       [ -2,   5],\n",
              "       [  6,  -2],\n",
              "       [-10,  -2],\n",
              "       [  6,  -4],\n",
              "       [-10,  -4],\n",
              "       [ -1,   5],\n",
              "       [ -3,   5],\n",
              "       [ -1, -11],\n",
              "       [ -3, -11],\n",
              "       [  6,  -1],\n",
              "       [-10,  -1],\n",
              "       [  6,  -5],\n",
              "       [-10,  -5],\n",
              "       [  0,   5],\n",
              "       [ -4,   5],\n",
              "       [  0, -11],\n",
              "       [ -4, -11],\n",
              "       [  5,   0],\n",
              "       [ -9,   0],\n",
              "       [  5,  -6],\n",
              "       [ -9,  -6],\n",
              "       [  1,   4],\n",
              "       [ -5,   4],\n",
              "       [  1, -10],\n",
              "       [ -5, -10],\n",
              "       [  5,   1],\n",
              "       [ -9,   1],\n",
              "       [  5,  -7],\n",
              "       [ -9,  -7],\n",
              "       [  2,   4],\n",
              "       [ -6,   4],\n",
              "       [  2, -10],\n",
              "       [ -6, -10],\n",
              "       [  4,   2],\n",
              "       [ -8,   2],\n",
              "       [  4,  -8],\n",
              "       [ -8,  -8],\n",
              "       [  3,   3],\n",
              "       [ -7,   3],\n",
              "       [  3,  -9],\n",
              "       [ -7,  -9]], dtype=int32)"
            ]
          },
          "metadata": {},
          "execution_count": 116
        }
      ]
    },
    {
      "cell_type": "code",
      "source": [
        "firstOctPoints = np.array([[6,-3], [6,-2], [6,-1], [5,0]])\n",
        "\n",
        "fig,  ax = plt.subplots()\n",
        "#ax.spines['top'].set_position(('data',15))\n",
        "#ax.spines['left'].set_position(('data',0))\n",
        "ax.scatter(firstOctPoints[:,0], firstOctPoints[:,1], s = 100, color = 'red', label = 'perimeter points')\n",
        "ax.scatter([3], [5], s = 50, color = 'blue', label = 'center')\n",
        "plt.grid()\n",
        "ax.set_aspect('equal')\n",
        "ax.axhline(y=0, color='gray')\n",
        "ax.axhline(y = 0, color = 'white')\n",
        "ax.axvline(x=0, color='gray')\n",
        "plt.legend()\n",
        "plt.show()"
      ],
      "metadata": {
        "colab": {
          "base_uri": "https://localhost:8080/",
          "height": 265
        },
        "id": "numo36ejxMl2",
        "outputId": "36c84550-a20e-46b7-af2c-307740c09f67"
      },
      "execution_count": 130,
      "outputs": [
        {
          "output_type": "display_data",
          "data": {
            "text/plain": [
              "<Figure size 432x288 with 1 Axes>"
            ],
            "image/png": "[encoded data removed]"
          },
          "metadata": {
            "needs_background": "light"
          }
        }
      ]
    },
    {
      "cell_type": "code",
      "source": [
        "pointsGen = pointsGenerator()\n",
        "points = pointsGen.basicAlgorithm(9,18,12,26,'basicAlgorithm')\n",
        "print(points)\n",
        "plt.grid()\n",
        "plt.plot(points[:,0],points[:,1], color='green',marker='o',)\n",
        "plt.show()\n"
      ],
      "metadata": {
        "colab": {
          "base_uri": "https://localhost:8080/",
          "height": 339
        },
        "id": "cufYImOf4vmX",
        "outputId": "6691e6c5-fc14-4fa8-df7d-a50c9ced9098"
      },
      "execution_count": 111,
      "outputs": [
        {
          "output_type": "stream",
          "name": "stdout",
          "text": [
            "[[ 9 18]\n",
            " [10 21]\n",
            " [11 23]\n",
            " [12 26]]\n"
          ]
        },
        {
          "output_type": "display_data",
          "data": {
            "text/plain": [
              "<Figure size 432x288 with 1 Axes>"
            ],
            "image/png": "[encoded data removed]"
          },
          "metadata": {
            "needs_background": "light"
          }
        }
      ]
    }
  ]
}